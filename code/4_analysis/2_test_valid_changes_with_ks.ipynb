{
 "cells": [
  {
   "cell_type": "code",
   "execution_count": 1,
   "id": "95ed5ca9-998a-4d1f-8d7e-966eb7f314b2",
   "metadata": {},
   "outputs": [],
   "source": [
    "import warnings\n",
    "warnings.filterwarnings(\"ignore\")\n",
    "import pandas as pd\n",
    "import geopandas\n",
    "import plotly.express as px\n",
    "import os\n",
    "from geopandas import GeoDataFrame\n",
    "from shapely.geometry import Point\n",
    "import matplotlib.pyplot as plt\n",
    "import imageio\n",
    "import mapclassify\n",
    "import matplotlib\n",
    "import matplotlib.image as mpimg\n",
    "import ast\n",
    "import json\n",
    "import numpy as np\n",
    "import shapely.wkt\n",
    "import math\n",
    "\n",
    "import pandas as pd\n",
    "import matplotlib.pyplot as plt\n",
    "import seaborn as sns\n",
    "from matplotlib import cm\n",
    "import matplotlib\n",
    "pd.set_option('display.max_columns', None)\n",
    "from six.moves import reduce\n",
    "import scipy\n",
    "from sklearn.metrics import r2_score\n",
    "#scipy.stats.pearsonr\n",
    "import scipy.stats as stats\n",
    "plt.rcParams.update({'font.family': 'Arial'})\n",
    "import matplotlib.colors as clr\n",
    "from matplotlib.colors import LinearSegmentedColormap\n",
    "from matplotlib.colors import TwoSlopeNorm\n",
    "from sklearn.cluster import *\n",
    "from sklearn.decomposition import PCA\n",
    "from functools import reduce\n",
    "import scipy.stats\n",
    "\n",
    "import math\n",
    "import sklearn\n",
    "import sklearn.feature_extraction.text\n",
    "from sklearn import cluster\n",
    "from sklearn import metrics\n",
    "import sklearn.manifold #For T-SNE\n",
    "import sklearn.decomposition #For PCA\n",
    "import sklearn.pipeline\n",
    "import sklearn.preprocessing\n",
    "import sklearn.datasets\n",
    "import sklearn.decomposition\n",
    "import sklearn.naive_bayes\n",
    "import sklearn.tree\n",
    "import sklearn.ensemble\n",
    "import sklearn.neural_network\n",
    "from sklearn.model_selection import train_test_split\n",
    "from sklearn.model_selection import cross_val_score, cross_val_predict\n",
    "from sklearn.metrics import classification_report\n",
    "from collections import Counter\n",
    "from sklearn.metrics import roc_auc_score\n",
    "from shapely import wkt\n",
    "#from mycolorpy import colorlist as mcp\n",
    "import matplotlib.ticker as mtick\n",
    "from  matplotlib.colors import LinearSegmentedColormap\n",
    "from functools import reduce\n",
    "from scipy import stats"
   ]
  },
  {
   "cell_type": "code",
   "execution_count": 2,
   "id": "55356ed4-5cc3-4f31-a2d8-2b225bcf6e09",
   "metadata": {},
   "outputs": [],
   "source": [
    "param_2018 = pd.read_csv(\n",
    "    'data/3_PSO_results/PSO_calirabtion_results/norm_PSO_combination_2018/PSO_2018_6params_NYC_norm_28_PSO_15.csv')\n",
    "table_2018 = pd.read_csv('data/2_data_for_PSO_calibration/table_2018.csv')\n",
    "\n",
    "param_2019 = pd.read_csv(\n",
    "    'data/3_PSO_results/PSO_calirabtion_results/norm_PSO_combination_2019/PSO_2019_6params_NYC_norm_28_PSO_15.csv')\n",
    "table_2019 = pd.read_csv('data/2_data_for_PSO_calibration/table_2019.csv')\n",
    "\n",
    "param_2020 = pd.read_csv(\n",
    "    'data/3_PSO_results/PSO_calirabtion_results/norm_PSO_combination_2020/PSO_2020_6params_NYC_norm_28_PSO_15.csv')\n",
    "table_2020 = pd.read_csv('data/2_data_for_PSO_calibration/table_2020.csv')\n",
    "\n",
    "param_2021 = pd.read_csv(\n",
    "    'data/3_PSO_results/PSO_calirabtion_results/norm_PSO_combination_2021/PSO_2021_6params_NYC_norm_28_PSO_15.csv')\n",
    "table_2021 = pd.read_csv('data/2_data_for_PSO_calibration/table_2021.csv')"
   ]
  },
  {
   "cell_type": "code",
   "execution_count": 3,
   "id": "9b9e1cf8-0b81-47b9-a2f6-f5cad547e2c1",
   "metadata": {},
   "outputs": [],
   "source": [
    "dfs = {'param_2018': param_2018,'param_2019': param_2019,'param_2020': param_2020, 'param_2021': param_2021,\n",
    "      'table_2018': table_2018,'table_2019': table_2019,'table_2020': table_2020, 'table_2021': table_2021}"
   ]
  },
  {
   "cell_type": "code",
   "execution_count": 4,
   "id": "e03ef85c-7b1e-49fd-8486-63c10b934538",
   "metadata": {},
   "outputs": [],
   "source": [
    "vars_definition = {'H_Area_of_store': 'Store area', \n",
    "       'R_Percentage_of_Visits_by_brand': 'Chain loyalty', 'J_POI_count_where_store_is': 'POI count',\n",
    "       'K_POI_diversity_where_store_is': 'POI diversity', 'L_Demographic_similarity': 'Demographic similarity',\n",
    "       'G_Distance_between_cbg_and_store':'CBG-Store Distance'}"
   ]
  },
  {
   "cell_type": "code",
   "execution_count": 5,
   "id": "2799f69d-3303-47f3-adda-c4292f79564f",
   "metadata": {},
   "outputs": [],
   "source": [
    "variables = ['H_Area_of_store', \n",
    "       'R_Percentage_of_Visits_by_brand', 'J_POI_count_where_store_is',\n",
    "       'K_POI_diversity_where_store_is', 'L_Demographic_similarity',\n",
    "       'G_Distance_between_cbg_and_store']"
   ]
  },
  {
   "cell_type": "code",
   "execution_count": 6,
   "id": "edcd4c90-8605-4dd2-b129-bc8fddf1c275",
   "metadata": {},
   "outputs": [],
   "source": [
    "for v in variables:\n",
    "    param_2018 = param_2018.rename(columns = {v: v + '_2018'})\n",
    "    param_2019 = param_2019.rename(columns = {v: v + '_2019'})\n",
    "    param_2020 = param_2020.rename(columns = {v: v + '_2020'})\n",
    "    param_2021 = param_2021.rename(columns = {v: v + '_2021'})"
   ]
  },
  {
   "cell_type": "code",
   "execution_count": 7,
   "id": "3c526a22-9bfc-4539-9c4a-c9bc14fc304f",
   "metadata": {},
   "outputs": [],
   "source": [
    "param_2018 = param_2018.drop(columns = ['cost'])\n",
    "param_2019 = param_2019.drop(columns = ['cost'])\n",
    "param_2020 = param_2020.drop(columns = ['cost'])\n",
    "param_2021 = param_2021.drop(columns = ['cost'])"
   ]
  },
  {
   "cell_type": "code",
   "execution_count": 8,
   "id": "69768403-2764-4844-b2d4-f53d7c435503",
   "metadata": {},
   "outputs": [],
   "source": [
    "params = param_2018.merge(param_2019, on = 'cbg').merge(param_2020, on = 'cbg').merge(param_2021, on = 'cbg')\n",
    "for c in list(params.columns):\n",
    "    if 'H_Area_of_store' in c:\n",
    "        params = params[params[c] != 'no visitors']"
   ]
  },
  {
   "cell_type": "code",
   "execution_count": 9,
   "id": "4c074061-b5b6-49c8-a0c0-23771140b2dd",
   "metadata": {},
   "outputs": [
    {
     "data": {
      "text/plain": [
       "5502"
      ]
     },
     "execution_count": 9,
     "metadata": {},
     "output_type": "execute_result"
    }
   ],
   "source": [
    "params['cbg'].nunique()"
   ]
  },
  {
   "cell_type": "markdown",
   "id": "56c1be53-4b88-4b44-a56a-54ec79c51942",
   "metadata": {},
   "source": [
    "# KS Test"
   ]
  },
  {
   "cell_type": "code",
   "execution_count": 10,
   "id": "e9fc2576-296f-4365-85b0-be2fa5ad34d2",
   "metadata": {},
   "outputs": [
    {
     "data": {
      "text/plain": [
       "KstestResult(statistic=0.010723373318793167, pvalue=0.9098207114998735, statistic_location=1.834898791686548, statistic_sign=1)"
      ]
     },
     "execution_count": 10,
     "metadata": {},
     "output_type": "execute_result"
    }
   ],
   "source": [
    "scipy.stats.kstest(params[variables[0]+'_2018'], params[variables[0]+'_2019'])#[1]"
   ]
  },
  {
   "cell_type": "code",
   "execution_count": 11,
   "id": "4fa4288d-42bf-4767-a963-2cb27285a623",
   "metadata": {},
   "outputs": [
    {
     "data": {
      "text/plain": [
       "0.9098207114998735"
      ]
     },
     "execution_count": 11,
     "metadata": {},
     "output_type": "execute_result"
    }
   ],
   "source": [
    "stats.kstest(params[variables[0]+'_2018'], params[variables[0]+'_2019']).pvalue"
   ]
  },
  {
   "cell_type": "code",
   "execution_count": 12,
   "id": "9358a53c-6618-449b-ace2-ba6d148d809b",
   "metadata": {},
   "outputs": [
    {
     "data": {
      "text/plain": [
       "(5502, 25)"
      ]
     },
     "execution_count": 12,
     "metadata": {},
     "output_type": "execute_result"
    }
   ],
   "source": [
    "params.shape"
   ]
  },
  {
   "cell_type": "code",
   "execution_count": 13,
   "id": "80efb2b4-3a68-4009-ad97-6cc5f13462c1",
   "metadata": {},
   "outputs": [],
   "source": [
    "def process_pvalue(p_here):\n",
    "    #same strategy as in R\n",
    "    if p_here <0.001:\n",
    "        return '\\\\text{' + '{:0.3e}'.format(p_here)+'}^\\\\text{***}'#+'***'\n",
    "    elif p_here >= 0.001 and p_here < 0.01:\n",
    "        return '\\\\text{' + '{:0.3e}'.format(p_here)+'}^\\\\text{**}'#+'**'\n",
    "    elif p_here >= 0.01 and p_here < 0.05:\n",
    "        return '\\\\text{' + '{:0.3e}'.format(p_here)+'}^\\\\text{*}'#+'*'\n",
    "    return str(round(p_here,3))"
   ]
  },
  {
   "cell_type": "code",
   "execution_count": 14,
   "id": "c560851f-7183-4a8b-8817-f55e1d754139",
   "metadata": {},
   "outputs": [
    {
     "data": {
      "text/html": [
       "<div>\n",
       "<style scoped>\n",
       "    .dataframe tbody tr th:only-of-type {\n",
       "        vertical-align: middle;\n",
       "    }\n",
       "\n",
       "    .dataframe tbody tr th {\n",
       "        vertical-align: top;\n",
       "    }\n",
       "\n",
       "    .dataframe thead th {\n",
       "        text-align: right;\n",
       "    }\n",
       "</style>\n",
       "<table border=\"1\" class=\"dataframe\">\n",
       "  <thead>\n",
       "    <tr style=\"text-align: right;\">\n",
       "      <th></th>\n",
       "      <th>variable</th>\n",
       "      <th>2018~2019</th>\n",
       "      <th>2019~2020</th>\n",
       "      <th>2019~2021</th>\n",
       "      <th>2020~2021</th>\n",
       "    </tr>\n",
       "  </thead>\n",
       "  <tbody>\n",
       "    <tr>\n",
       "      <th>0</th>\n",
       "      <td>Store area</td>\n",
       "      <td>0.909821</td>\n",
       "      <td>9.406548e-295</td>\n",
       "      <td>7.222452e-293</td>\n",
       "      <td>9.834698e-03</td>\n",
       "    </tr>\n",
       "    <tr>\n",
       "      <th>1</th>\n",
       "      <td>Chain loyalty</td>\n",
       "      <td>0.850672</td>\n",
       "      <td>5.293906e-200</td>\n",
       "      <td>2.989704e-207</td>\n",
       "      <td>3.120209e-01</td>\n",
       "    </tr>\n",
       "    <tr>\n",
       "      <th>2</th>\n",
       "      <td>POI count</td>\n",
       "      <td>0.439173</td>\n",
       "      <td>5.150284e-37</td>\n",
       "      <td>5.652137e-87</td>\n",
       "      <td>3.965251e-13</td>\n",
       "    </tr>\n",
       "    <tr>\n",
       "      <th>3</th>\n",
       "      <td>POI diversity</td>\n",
       "      <td>0.574231</td>\n",
       "      <td>4.310540e-19</td>\n",
       "      <td>1.239687e-30</td>\n",
       "      <td>2.140085e-02</td>\n",
       "    </tr>\n",
       "    <tr>\n",
       "      <th>4</th>\n",
       "      <td>Demographic similarity</td>\n",
       "      <td>0.733842</td>\n",
       "      <td>2.020247e-02</td>\n",
       "      <td>6.277372e-02</td>\n",
       "      <td>9.462703e-01</td>\n",
       "    </tr>\n",
       "    <tr>\n",
       "      <th>5</th>\n",
       "      <td>CBG-Store Distance</td>\n",
       "      <td>0.621999</td>\n",
       "      <td>5.138254e-160</td>\n",
       "      <td>0.000000e+00</td>\n",
       "      <td>4.195045e-49</td>\n",
       "    </tr>\n",
       "  </tbody>\n",
       "</table>\n",
       "</div>"
      ],
      "text/plain": [
       "                 variable  2018~2019      2019~2020      2019~2021  \\\n",
       "0              Store area   0.909821  9.406548e-295  7.222452e-293   \n",
       "1           Chain loyalty   0.850672  5.293906e-200  2.989704e-207   \n",
       "2               POI count   0.439173   5.150284e-37   5.652137e-87   \n",
       "3           POI diversity   0.574231   4.310540e-19   1.239687e-30   \n",
       "4  Demographic similarity   0.733842   2.020247e-02   6.277372e-02   \n",
       "5      CBG-Store Distance   0.621999  5.138254e-160   0.000000e+00   \n",
       "\n",
       "      2020~2021  \n",
       "0  9.834698e-03  \n",
       "1  3.120209e-01  \n",
       "2  3.965251e-13  \n",
       "3  2.140085e-02  \n",
       "4  9.462703e-01  \n",
       "5  4.195045e-49  "
      ]
     },
     "execution_count": 14,
     "metadata": {},
     "output_type": "execute_result"
    }
   ],
   "source": [
    "ks_tests = {'variable': [], '2018~2019': [], '2019~2020': [], '2019~2021': [], '2020~2021': []}\n",
    "for v in variables:\n",
    "    ks_tests['variable'].append(vars_definition[v])\n",
    "    ks_tests['2018~2019'].append(stats.kstest(params[v+'_2018'], params[v+'_2019']).pvalue)\n",
    "    ks_tests['2019~2020'].append(stats.kstest(params[v+'_2019'], params[v+'_2020']).pvalue)\n",
    "    ks_tests['2019~2021'].append(stats.kstest(params[v+'_2019'], params[v+'_2021']).pvalue)\n",
    "    ks_tests['2020~2021'].append(stats.kstest(params[v+'_2020'], params[v+'_2021']).pvalue)\n",
    "    \n",
    "ks_tests_df = pd.DataFrame(ks_tests)\n",
    "ks_tests_df"
   ]
  },
  {
   "cell_type": "code",
   "execution_count": 15,
   "id": "571536f2-e081-45c3-95ff-e8ed10af07de",
   "metadata": {},
   "outputs": [
    {
     "name": "stdout",
     "output_type": "stream",
     "text": [
      "Store area & $0.91$ & $\\text{9.407e-295}^\\text{***}$ & $\\text{7.222e-293}^\\text{***}$ & $\\text{9.835e-03}^\\text{**}$\n",
      "\n",
      "\n",
      "Chain loyalty & $0.851$ & $\\text{5.294e-200}^\\text{***}$ & $\\text{2.990e-207}^\\text{***}$ & $0.312$\n",
      "\n",
      "\n",
      "POI count & $0.439$ & $\\text{5.150e-37}^\\text{***}$ & $\\text{5.652e-87}^\\text{***}$ & $\\text{3.965e-13}^\\text{***}$\n",
      "\n",
      "\n",
      "POI diversity & $0.574$ & $\\text{4.311e-19}^\\text{***}$ & $\\text{1.240e-30}^\\text{***}$ & $\\text{2.140e-02}^\\text{*}$\n",
      "\n",
      "\n",
      "Demographic similarity & $0.734$ & $\\text{2.020e-02}^\\text{*}$ & $0.063$ & $0.946$\n",
      "\n",
      "\n",
      "CBG-Store Distance & $0.622$ & $\\text{5.138e-160}^\\text{***}$ & $\\text{0.000e+00}^\\text{***}$ & $\\text{4.195e-49}^\\text{***}$\n",
      "\n",
      "\n"
     ]
    }
   ],
   "source": [
    "for indx, cont in ks_tests_df.iterrows():\n",
    "    values = [cont['2018~2019'], cont['2019~2020'], cont['2019~2021'], cont['2020~2021']]\n",
    "    values = ['$' + process_pvalue(i) + '$' for i in values]\n",
    "    print(' & '.join([cont['variable']] + values))\n",
    "    print('\\n')"
   ]
  }
 ],
 "metadata": {
  "kernelspec": {
   "display_name": "Python 3 (ipykernel)",
   "language": "python",
   "name": "python3"
  },
  "language_info": {
   "codemirror_mode": {
    "name": "ipython",
    "version": 3
   },
   "file_extension": ".py",
   "mimetype": "text/x-python",
   "name": "python",
   "nbconvert_exporter": "python",
   "pygments_lexer": "ipython3",
   "version": "3.11.3"
  }
 },
 "nbformat": 4,
 "nbformat_minor": 5
}
