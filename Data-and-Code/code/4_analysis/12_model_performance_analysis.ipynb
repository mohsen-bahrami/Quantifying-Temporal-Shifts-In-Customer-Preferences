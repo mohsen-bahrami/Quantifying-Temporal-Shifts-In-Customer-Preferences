{
 "cells": [
  {
   "cell_type": "code",
   "execution_count": 1,
   "id": "b3a5a50d-5b32-48f2-8a29-4058eadb50fa",
   "metadata": {},
   "outputs": [],
   "source": [
    "import pandas as pd\n",
    "import matplotlib.pyplot as plt\n",
    "import seaborn as sns\n",
    "from matplotlib import cm\n",
    "import matplotlib\n",
    "pd.set_option('display.max_columns', None)\n",
    "from six.moves import reduce\n",
    "import scipy\n",
    "from sklearn.metrics import r2_score\n",
    "#scipy.stats.pearsonr\n",
    "import scipy.stats as stats\n",
    "plt.rcParams.update({'font.family': 'Arial'})\n",
    "import warnings\n",
    "warnings.filterwarnings(\"ignore\")\n",
    "import math\n",
    "import statistics"
   ]
  },
  {
   "cell_type": "code",
   "execution_count": 2,
   "id": "1d522d24-a3f2-4f32-b043-1a8dae0ce8cf",
   "metadata": {},
   "outputs": [],
   "source": [
    "param_2018 = pd.read_csv(\n",
    "    'data/3_PSO_results/PSO_calirabtion_results/norm_PSO_combination_2018/PSO_2018_6params_NYC_norm_28_PSO_15.csv')\n",
    "table_2018 = pd.read_csv('data/2_data_for_PSO_calibration/table_2018.csv')\n",
    "\n",
    "param_2019 = pd.read_csv(\n",
    "    'data/3_PSO_results/PSO_calirabtion_results/norm_PSO_combination_2019/PSO_2019_6params_NYC_norm_28_PSO_15.csv')\n",
    "table_2019 = pd.read_csv('data/2_data_for_PSO_calibration/table_2019.csv')\n",
    "\n",
    "param_2020 = pd.read_csv(\n",
    "    'data/3_PSO_results/PSO_calirabtion_results/norm_PSO_combination_2020/PSO_2020_6params_NYC_norm_28_PSO_15.csv')\n",
    "table_2020 = pd.read_csv('data/2_data_for_PSO_calibration/table_2020.csv')\n",
    "\n",
    "param_2021 = pd.read_csv(\n",
    "    'data/3_PSO_results/PSO_calirabtion_results/norm_PSO_combination_2021/PSO_2021_6params_NYC_norm_28_PSO_15.csv')\n",
    "table_2021 = pd.read_csv('data/2_data_for_PSO_calibration/table_2021.csv')"
   ]
  },
  {
   "cell_type": "code",
   "execution_count": 5,
   "id": "86c6733a-7e70-4b50-abda-5e670dcca897",
   "metadata": {
    "tags": []
   },
   "outputs": [],
   "source": [
    "used_cbgs = param_2018['cbg'].tolist()"
   ]
  },
  {
   "cell_type": "code",
   "execution_count": 6,
   "id": "d7285ce2-b156-453f-9dc2-a0434920b3e4",
   "metadata": {
    "tags": []
   },
   "outputs": [],
   "source": [
    "table_2018 = table_2018[table_2018['A_cbg'].isin(used_cbgs)]\n",
    "table_2019 = table_2019[table_2019['A_cbg'].isin(used_cbgs)]\n",
    "table_2020 = table_2020[table_2020['A_cbg'].isin(used_cbgs)]\n",
    "table_2021 = table_2021[table_2021['A_cbg'].isin(used_cbgs)]"
   ]
  },
  {
   "cell_type": "code",
   "execution_count": 7,
   "id": "92991aff-9118-4ad2-aed0-fcac4aa29aa7",
   "metadata": {},
   "outputs": [],
   "source": [
    "dfs = {'param_2018': param_2018,'param_2019': param_2019,'param_2020': param_2020, 'param_2021': param_2021,\n",
    "      'table_2018': table_2018,'table_2019': table_2019,'table_2020': table_2020, 'table_2021': table_2021}"
   ]
  },
  {
   "cell_type": "code",
   "execution_count": 8,
   "id": "f51bdb1c-573f-4cf4-b5fe-a0096fd5d660",
   "metadata": {},
   "outputs": [],
   "source": [
    "vars_definition = {'H_Area_of_store': 'Store area', \n",
    "       'R_Percentage_of_Visits_by_brand': 'Chain loyalty', 'J_POI_count_where_store_is': 'POI count',\n",
    "       'K_POI_diversity_where_store_is': 'POI diversity', 'L_Demographic_similarity': 'Demographic similarity',\n",
    "       'G_Distance_between_cbg_and_store':'CBG-Store Distance'}"
   ]
  },
  {
   "cell_type": "code",
   "execution_count": 9,
   "id": "1be7194a-fdac-4d0d-b70c-3d7b6388f06e",
   "metadata": {},
   "outputs": [],
   "source": [
    "variables = ['H_Area_of_store', \n",
    "       'R_Percentage_of_Visits_by_brand', 'J_POI_count_where_store_is',\n",
    "       'K_POI_diversity_where_store_is', 'L_Demographic_similarity',\n",
    "       'G_Distance_between_cbg_and_store']"
   ]
  },
  {
   "cell_type": "code",
   "execution_count": 10,
   "id": "565afd58-ec81-4398-a684-e55bde90817d",
   "metadata": {},
   "outputs": [],
   "source": [
    "norm = 28\n",
    "\n",
    "PSO_range = 15\n",
    "\n",
    "def convert(df, colname):\n",
    "    list_here = df[colname].tolist()\n",
    "    max_num = max(list_here)\n",
    "    min_num = min(list_here)\n",
    "    deno = max_num - min_num\n",
    "    ans = []\n",
    "    for i in list_here:\n",
    "        this = ((i-min_num)/deno)*(norm-1) + 1\n",
    "        ans.append(this)\n",
    "    return ans"
   ]
  },
  {
   "cell_type": "code",
   "execution_count": 11,
   "id": "80e3df48-5657-4c81-a1c3-b36ae1638f68",
   "metadata": {},
   "outputs": [],
   "source": [
    "def get_table(y):\n",
    "    t_temp = dfs['table_'+str(y)].copy()\n",
    "    for i in t_temp.columns:\n",
    "        if ' ' in i.strip():\n",
    "            t_temp = t_temp.rename(columns = {i: i.replace(' ','')})\n",
    "    t_final = t_temp[['A_cbg', 'B_store', 'C_Percentage_of_Visits_'+str(y), \n",
    "                      'D_Number_of_Visits_'+str(y)]].rename(columns = {\n",
    "        'C_Percentage_of_Visits_'+str(y): 'C_Percentage_of_Visits',\n",
    "        'D_Number_of_Visits_'+str(y): 'D_Number_of_Visits',\n",
    "        'G_ Distance_between_cbg_and_store': 'G_Distance_between_cbg_and_store'}) \n",
    "    change = ['H_Area_of_store', 'R_Percentage_of_Visits_by_brand_'+str(y), 'G_Distance_between_cbg_and_store', \n",
    "    'J_POI_count_where_store_is', 'K_POI_diversity_where_store_is',\n",
    "             'L_Demographic_similarity']\n",
    "    for i in change:\n",
    "        t_final[i] = convert(t_temp, i)\n",
    "        if str(y) in i:\n",
    "            t_final = t_final.rename(columns = {i:i[:-5]})\n",
    "    return t_final"
   ]
  },
  {
   "cell_type": "code",
   "execution_count": 12,
   "id": "3674ff2c-83f1-41f0-bac6-ea5129bf72a7",
   "metadata": {},
   "outputs": [],
   "source": [
    "def get_predicted_raw_visit_share(row):\n",
    "    up_first = (row['H_Area_of_store']**row['H_Area_of_store_param'])*(\n",
    "        row['R_Percentage_of_Visits_by_brand']**row['R_Percentage_of_Visits_by_brand_param'])\n",
    "    up_second = (row['J_POI_count_where_store_is']**row['J_POI_count_where_store_is_param'])*(\n",
    "        row['K_POI_diversity_where_store_is']**row['K_POI_diversity_where_store_is_param'])*(\n",
    "        row['L_Demographic_similarity']**row['L_Demographic_similarity_param'])\n",
    "    down = row['G_Distance_between_cbg_and_store']**row['G_Distance_between_cbg_and_store_param']\n",
    "    return up_first*up_second/down"
   ]
  },
  {
   "cell_type": "code",
   "execution_count": 13,
   "id": "478ab135-c791-461c-8329-28759084ff77",
   "metadata": {},
   "outputs": [],
   "source": [
    "def get_predicted_visits(year):\n",
    "    df_temp = get_table(year)\n",
    "    calibrated_params_here = dfs['param_'+str(year)].copy()\n",
    "    \n",
    "    for i in ['H_Area_of_store', \n",
    "       'R_Percentage_of_Visits_by_brand', 'J_POI_count_where_store_is',\n",
    "       'K_POI_diversity_where_store_is', 'L_Demographic_similarity',\n",
    "       'G_Distance_between_cbg_and_store']:\n",
    "        if i in calibrated_params_here:\n",
    "            \n",
    "            calibrated_params_here = calibrated_params_here[calibrated_params_here[i] != 'no visitors']            \n",
    "            calibrated_params_here[i] = calibrated_params_here[i].astype(float)\n",
    "            calibrated_params_here = calibrated_params_here.rename(columns = {i:i + '_param'})\n",
    "    \n",
    "    computed_df = pd.merge(df_temp, calibrated_params_here.drop(columns = ['cost']), left_on = 'A_cbg', \n",
    "                           right_on = 'cbg', how='left').dropna()\n",
    "    computed_df['result_before_norm'] = computed_df.apply(lambda x: get_predicted_raw_visit_share(x), axis = 1)\n",
    "    cbg_sum = computed_df.groupby('A_cbg')[['result_before_norm','D_Number_of_Visits']].sum().reset_index().rename(\n",
    "        columns = {'result_before_norm':'result_cbg_sum', 'D_Number_of_Visits': 'Number_of_Visits_in_this_cbg'})\n",
    "    computed_df_general = pd.merge(computed_df, cbg_sum, on = 'A_cbg', how = 'left')\n",
    "\n",
    "    computed_df_general['assumed_visits'] = computed_df_general.apply(\n",
    "        lambda x: x['result_before_norm']/x['result_cbg_sum']*x['Number_of_Visits_in_this_cbg'], \n",
    "        axis = 1)\n",
    "    return computed_df_general[['A_cbg', 'B_store', 'D_Number_of_Visits', 'assumed_visits']]"
   ]
  },
  {
   "cell_type": "code",
   "execution_count": 14,
   "id": "f387a81a-8151-4086-aec9-01fac008e923",
   "metadata": {},
   "outputs": [],
   "source": [
    "years = [2018, 2019, 2020, 2021]"
   ]
  },
  {
   "cell_type": "code",
   "execution_count": 15,
   "id": "a1248c8c-7b52-409a-a653-c34694db1295",
   "metadata": {},
   "outputs": [],
   "source": [
    "for y in years:\n",
    "    dfs['preds_'+str(y)] = get_predicted_visits(y)"
   ]
  },
  {
   "cell_type": "code",
   "execution_count": 16,
   "id": "c9a55fb1-2804-450c-afde-51bad4aee462",
   "metadata": {},
   "outputs": [
    {
     "data": {
      "text/plain": [
       "5502"
      ]
     },
     "execution_count": 16,
     "metadata": {},
     "output_type": "execute_result"
    }
   ],
   "source": [
    "cbgs = dfs['table_2018']['A_cbg'].unique().tolist()\n",
    "len(cbgs)"
   ]
  },
  {
   "cell_type": "code",
   "execution_count": 17,
   "id": "89f31034-318d-4486-bc9c-91704d4ce4bb",
   "metadata": {},
   "outputs": [],
   "source": [
    "stores = dfs['table_2018']['B_store'].unique().tolist()"
   ]
  },
  {
   "cell_type": "code",
   "execution_count": 18,
   "id": "92fe51e2-8cd1-437c-b61f-40faaa24b432",
   "metadata": {},
   "outputs": [],
   "source": [
    "ses = ['med_ageE','bachelor_degree_25E', 'med_hh_incomeE', 'whiteE', 'blackE', 'asianE','hispanicE']"
   ]
  },
  {
   "cell_type": "code",
   "execution_count": 19,
   "id": "8a867229-b11e-41cc-8112-0cf900d92d4f",
   "metadata": {},
   "outputs": [
    {
     "data": {
      "text/html": [
       "<div>\n",
       "<style scoped>\n",
       "    .dataframe tbody tr th:only-of-type {\n",
       "        vertical-align: middle;\n",
       "    }\n",
       "\n",
       "    .dataframe tbody tr th {\n",
       "        vertical-align: top;\n",
       "    }\n",
       "\n",
       "    .dataframe thead th {\n",
       "        text-align: right;\n",
       "    }\n",
       "</style>\n",
       "<table border=\"1\" class=\"dataframe\">\n",
       "  <thead>\n",
       "    <tr style=\"text-align: right;\">\n",
       "      <th></th>\n",
       "      <th>B_store</th>\n",
       "      <th>H_Area_of_store</th>\n",
       "    </tr>\n",
       "  </thead>\n",
       "  <tbody>\n",
       "    <tr>\n",
       "      <th>0</th>\n",
       "      <td>sg:b200115f9d28436996e8db7376a6acfb</td>\n",
       "      <td>582</td>\n",
       "    </tr>\n",
       "    <tr>\n",
       "      <th>1</th>\n",
       "      <td>sg:d07befd8cc324b59b3183aa5dc091015</td>\n",
       "      <td>627</td>\n",
       "    </tr>\n",
       "    <tr>\n",
       "      <th>2</th>\n",
       "      <td>sg:7e7476590af643a4b89bdb2fe59464a6</td>\n",
       "      <td>717</td>\n",
       "    </tr>\n",
       "    <tr>\n",
       "      <th>3</th>\n",
       "      <td>sg:c843f07483c04a22960814f2d859ec04</td>\n",
       "      <td>805</td>\n",
       "    </tr>\n",
       "    <tr>\n",
       "      <th>4</th>\n",
       "      <td>sg:f4ada8c153e14fdc9d019433c2022611</td>\n",
       "      <td>898</td>\n",
       "    </tr>\n",
       "    <tr>\n",
       "      <th>...</th>\n",
       "      <td>...</td>\n",
       "      <td>...</td>\n",
       "    </tr>\n",
       "    <tr>\n",
       "      <th>277</th>\n",
       "      <td>aggregated_4024_College</td>\n",
       "      <td>214735</td>\n",
       "    </tr>\n",
       "    <tr>\n",
       "      <th>278</th>\n",
       "      <td>sg:1b394074dc2e43248068041081ed1b67</td>\n",
       "      <td>214735</td>\n",
       "    </tr>\n",
       "    <tr>\n",
       "      <th>279</th>\n",
       "      <td>sg:40c47fece0ba4897b01c7e28efb2731a</td>\n",
       "      <td>472341</td>\n",
       "    </tr>\n",
       "    <tr>\n",
       "      <th>280</th>\n",
       "      <td>sg:52de54a8c5b74a3c9f0cd9b44b7830aa</td>\n",
       "      <td>472341</td>\n",
       "    </tr>\n",
       "    <tr>\n",
       "      <th>281</th>\n",
       "      <td>sg:2e1dfaeb69074f8cb0cf20ec869a598b</td>\n",
       "      <td>688746</td>\n",
       "    </tr>\n",
       "  </tbody>\n",
       "</table>\n",
       "<p>282 rows × 2 columns</p>\n",
       "</div>"
      ],
      "text/plain": [
       "                                 B_store  H_Area_of_store\n",
       "0    sg:b200115f9d28436996e8db7376a6acfb              582\n",
       "1    sg:d07befd8cc324b59b3183aa5dc091015              627\n",
       "2    sg:7e7476590af643a4b89bdb2fe59464a6              717\n",
       "3    sg:c843f07483c04a22960814f2d859ec04              805\n",
       "4    sg:f4ada8c153e14fdc9d019433c2022611              898\n",
       "..                                   ...              ...\n",
       "277              aggregated_4024_College           214735\n",
       "278  sg:1b394074dc2e43248068041081ed1b67           214735\n",
       "279  sg:40c47fece0ba4897b01c7e28efb2731a           472341\n",
       "280  sg:52de54a8c5b74a3c9f0cd9b44b7830aa           472341\n",
       "281  sg:2e1dfaeb69074f8cb0cf20ec869a598b           688746\n",
       "\n",
       "[282 rows x 2 columns]"
      ]
     },
     "execution_count": 19,
     "metadata": {},
     "output_type": "execute_result"
    }
   ],
   "source": [
    "store_areas = table_2018[['B_store', 'H_Area_of_store']].drop_duplicates().sort_values(\n",
    "    by = 'H_Area_of_store').reset_index().drop(columns = 'index')\n",
    "store_areas"
   ]
  },
  {
   "cell_type": "code",
   "execution_count": 20,
   "id": "cee9080d-0f26-4f50-b6c7-e65421bcfd9d",
   "metadata": {},
   "outputs": [],
   "source": [
    "stores_ranked_by_area = store_areas['B_store'].tolist()"
   ]
  },
  {
   "cell_type": "code",
   "execution_count": 21,
   "id": "409ffeaa-186a-4a68-9553-7f35ed570268",
   "metadata": {},
   "outputs": [
    {
     "data": {
      "text/html": [
       "<div>\n",
       "<style scoped>\n",
       "    .dataframe tbody tr th:only-of-type {\n",
       "        vertical-align: middle;\n",
       "    }\n",
       "\n",
       "    .dataframe tbody tr th {\n",
       "        vertical-align: top;\n",
       "    }\n",
       "\n",
       "    .dataframe thead th {\n",
       "        text-align: right;\n",
       "    }\n",
       "</style>\n",
       "<table border=\"1\" class=\"dataframe\">\n",
       "  <thead>\n",
       "    <tr style=\"text-align: right;\">\n",
       "      <th></th>\n",
       "      <th>A_cbg</th>\n",
       "      <th>D_Number_of_Visits_2018</th>\n",
       "      <th>D_Number_of_Visits_2019</th>\n",
       "      <th>D_Number_of_Visits_2020</th>\n",
       "      <th>D_Number_of_Visits_2021</th>\n",
       "      <th>visits_min</th>\n",
       "    </tr>\n",
       "  </thead>\n",
       "  <tbody>\n",
       "    <tr>\n",
       "      <th>0</th>\n",
       "      <td>360050002001</td>\n",
       "      <td>533</td>\n",
       "      <td>596</td>\n",
       "      <td>422</td>\n",
       "      <td>214</td>\n",
       "      <td>214</td>\n",
       "    </tr>\n",
       "    <tr>\n",
       "      <th>1</th>\n",
       "      <td>360050002002</td>\n",
       "      <td>932</td>\n",
       "      <td>1045</td>\n",
       "      <td>672</td>\n",
       "      <td>298</td>\n",
       "      <td>298</td>\n",
       "    </tr>\n",
       "    <tr>\n",
       "      <th>2</th>\n",
       "      <td>360050002003</td>\n",
       "      <td>413</td>\n",
       "      <td>541</td>\n",
       "      <td>437</td>\n",
       "      <td>149</td>\n",
       "      <td>149</td>\n",
       "    </tr>\n",
       "    <tr>\n",
       "      <th>3</th>\n",
       "      <td>360050004001</td>\n",
       "      <td>459</td>\n",
       "      <td>335</td>\n",
       "      <td>278</td>\n",
       "      <td>140</td>\n",
       "      <td>140</td>\n",
       "    </tr>\n",
       "    <tr>\n",
       "      <th>4</th>\n",
       "      <td>360050004002</td>\n",
       "      <td>383</td>\n",
       "      <td>392</td>\n",
       "      <td>381</td>\n",
       "      <td>187</td>\n",
       "      <td>187</td>\n",
       "    </tr>\n",
       "    <tr>\n",
       "      <th>...</th>\n",
       "      <td>...</td>\n",
       "      <td>...</td>\n",
       "      <td>...</td>\n",
       "      <td>...</td>\n",
       "      <td>...</td>\n",
       "      <td>...</td>\n",
       "    </tr>\n",
       "    <tr>\n",
       "      <th>5497</th>\n",
       "      <td>360850319011</td>\n",
       "      <td>1473</td>\n",
       "      <td>1460</td>\n",
       "      <td>1226</td>\n",
       "      <td>795</td>\n",
       "      <td>795</td>\n",
       "    </tr>\n",
       "    <tr>\n",
       "      <th>5498</th>\n",
       "      <td>360850319021</td>\n",
       "      <td>987</td>\n",
       "      <td>988</td>\n",
       "      <td>760</td>\n",
       "      <td>291</td>\n",
       "      <td>291</td>\n",
       "    </tr>\n",
       "    <tr>\n",
       "      <th>5499</th>\n",
       "      <td>360850319022</td>\n",
       "      <td>1124</td>\n",
       "      <td>1596</td>\n",
       "      <td>1298</td>\n",
       "      <td>625</td>\n",
       "      <td>625</td>\n",
       "    </tr>\n",
       "    <tr>\n",
       "      <th>5500</th>\n",
       "      <td>360850319023</td>\n",
       "      <td>972</td>\n",
       "      <td>1245</td>\n",
       "      <td>1039</td>\n",
       "      <td>447</td>\n",
       "      <td>447</td>\n",
       "    </tr>\n",
       "    <tr>\n",
       "      <th>5501</th>\n",
       "      <td>360850323001</td>\n",
       "      <td>850</td>\n",
       "      <td>1200</td>\n",
       "      <td>1085</td>\n",
       "      <td>690</td>\n",
       "      <td>690</td>\n",
       "    </tr>\n",
       "  </tbody>\n",
       "</table>\n",
       "<p>5502 rows × 6 columns</p>\n",
       "</div>"
      ],
      "text/plain": [
       "             A_cbg  D_Number_of_Visits_2018  D_Number_of_Visits_2019  \\\n",
       "0     360050002001                      533                      596   \n",
       "1     360050002002                      932                     1045   \n",
       "2     360050002003                      413                      541   \n",
       "3     360050004001                      459                      335   \n",
       "4     360050004002                      383                      392   \n",
       "...            ...                      ...                      ...   \n",
       "5497  360850319011                     1473                     1460   \n",
       "5498  360850319021                      987                      988   \n",
       "5499  360850319022                     1124                     1596   \n",
       "5500  360850319023                      972                     1245   \n",
       "5501  360850323001                      850                     1200   \n",
       "\n",
       "      D_Number_of_Visits_2020  D_Number_of_Visits_2021  visits_min  \n",
       "0                         422                      214         214  \n",
       "1                         672                      298         298  \n",
       "2                         437                      149         149  \n",
       "3                         278                      140         140  \n",
       "4                         381                      187         187  \n",
       "...                       ...                      ...         ...  \n",
       "5497                     1226                      795         795  \n",
       "5498                      760                      291         291  \n",
       "5499                     1298                      625         625  \n",
       "5500                     1039                      447         447  \n",
       "5501                     1085                      690         690  \n",
       "\n",
       "[5502 rows x 6 columns]"
      ]
     },
     "execution_count": 21,
     "metadata": {},
     "output_type": "execute_result"
    }
   ],
   "source": [
    "def aggregate_cbg_yearly_visits(y):\n",
    "    return dfs['table_'+str(y)].groupby('A_cbg')['D_Number_of_Visits_'+str(y)].sum().reset_index()\n",
    "yearly_visits_by_cbg = aggregate_cbg_yearly_visits(2018).merge(aggregate_cbg_yearly_visits(2019)).merge(\n",
    "    aggregate_cbg_yearly_visits(2020)).merge(aggregate_cbg_yearly_visits(2021))\n",
    "yearly_visits_by_cbg['visits_min']  = yearly_visits_by_cbg[['D_Number_of_Visits_2018', 'D_Number_of_Visits_2019',\n",
    "       'D_Number_of_Visits_2020', 'D_Number_of_Visits_2021']].min(axis=1)\n",
    "yearly_visits_by_cbg"
   ]
  },
  {
   "cell_type": "code",
   "execution_count": 22,
   "id": "bd59b464-ebc4-453f-bac6-19ea353da965",
   "metadata": {},
   "outputs": [],
   "source": [
    "#used_cbgs = yearly_visits_by_cbg[yearly_visits_by_cbg['visits_min']>0]['A_cbg'].unique().tolist()"
   ]
  },
  {
   "cell_type": "code",
   "execution_count": 23,
   "id": "852b5435-2b30-480c-ab2a-bb862f7b6ab4",
   "metadata": {},
   "outputs": [
    {
     "data": {
      "text/plain": [
       "5502"
      ]
     },
     "execution_count": 23,
     "metadata": {},
     "output_type": "execute_result"
    }
   ],
   "source": [
    "len(used_cbgs)"
   ]
  },
  {
   "cell_type": "code",
   "execution_count": 24,
   "id": "1b70c603-4fbf-4bab-ac8a-496f893e67a8",
   "metadata": {},
   "outputs": [
    {
     "data": {
      "text/html": [
       "<div>\n",
       "<style scoped>\n",
       "    .dataframe tbody tr th:only-of-type {\n",
       "        vertical-align: middle;\n",
       "    }\n",
       "\n",
       "    .dataframe tbody tr th {\n",
       "        vertical-align: top;\n",
       "    }\n",
       "\n",
       "    .dataframe thead th {\n",
       "        text-align: right;\n",
       "    }\n",
       "</style>\n",
       "<table border=\"1\" class=\"dataframe\">\n",
       "  <thead>\n",
       "    <tr style=\"text-align: right;\">\n",
       "      <th></th>\n",
       "      <th>B_store</th>\n",
       "      <th>O_Brand_name</th>\n",
       "    </tr>\n",
       "  </thead>\n",
       "  <tbody>\n",
       "    <tr>\n",
       "      <th>0</th>\n",
       "      <td>sg:94b69491e8394408a41b4eaf79700a9a</td>\n",
       "      <td>Family Dollar Stores</td>\n",
       "    </tr>\n",
       "    <tr>\n",
       "      <th>1</th>\n",
       "      <td>sg:b261ab19c88f4f68bb8efd01f0bea507</td>\n",
       "      <td>Family Dollar Stores</td>\n",
       "    </tr>\n",
       "    <tr>\n",
       "      <th>2</th>\n",
       "      <td>sg:3f8d237767dc4dda8c8ed80f0e7d359d</td>\n",
       "      <td>Family Dollar Stores</td>\n",
       "    </tr>\n",
       "    <tr>\n",
       "      <th>3</th>\n",
       "      <td>sg:670f3d81cc5f44f5835954f0285f57af</td>\n",
       "      <td>Family Dollar Stores</td>\n",
       "    </tr>\n",
       "    <tr>\n",
       "      <th>4</th>\n",
       "      <td>sg:429f4ee166ff4523be060774d8354a8e</td>\n",
       "      <td>Family Dollar Stores</td>\n",
       "    </tr>\n",
       "    <tr>\n",
       "      <th>...</th>\n",
       "      <td>...</td>\n",
       "      <td>...</td>\n",
       "    </tr>\n",
       "    <tr>\n",
       "      <th>1518553</th>\n",
       "      <td>sg:287a466b3edd42c18e018c7022c1914f</td>\n",
       "      <td>Kohl's</td>\n",
       "    </tr>\n",
       "    <tr>\n",
       "      <th>1518554</th>\n",
       "      <td>sg:2e1dfaeb69074f8cb0cf20ec869a598b</td>\n",
       "      <td>Kohl's</td>\n",
       "    </tr>\n",
       "    <tr>\n",
       "      <th>1535058</th>\n",
       "      <td>sg:07fafdb3637c46e88d42a8fc2dce529a</td>\n",
       "      <td>Sears</td>\n",
       "    </tr>\n",
       "    <tr>\n",
       "      <th>1535059</th>\n",
       "      <td>sg:9bbf6c92e7cf4768a8cfdccab7bfb693</td>\n",
       "      <td>Sears</td>\n",
       "    </tr>\n",
       "    <tr>\n",
       "      <th>1546062</th>\n",
       "      <td>sg:e4019da3119b4ebfac7b8f9907d68d7c</td>\n",
       "      <td>Bottega Veneta</td>\n",
       "    </tr>\n",
       "  </tbody>\n",
       "</table>\n",
       "<p>282 rows × 2 columns</p>\n",
       "</div>"
      ],
      "text/plain": [
       "                                     B_store          O_Brand_name\n",
       "0        sg:94b69491e8394408a41b4eaf79700a9a  Family Dollar Stores\n",
       "1        sg:b261ab19c88f4f68bb8efd01f0bea507  Family Dollar Stores\n",
       "2        sg:3f8d237767dc4dda8c8ed80f0e7d359d  Family Dollar Stores\n",
       "3        sg:670f3d81cc5f44f5835954f0285f57af  Family Dollar Stores\n",
       "4        sg:429f4ee166ff4523be060774d8354a8e  Family Dollar Stores\n",
       "...                                      ...                   ...\n",
       "1518553  sg:287a466b3edd42c18e018c7022c1914f                Kohl's\n",
       "1518554  sg:2e1dfaeb69074f8cb0cf20ec869a598b                Kohl's\n",
       "1535058  sg:07fafdb3637c46e88d42a8fc2dce529a                 Sears\n",
       "1535059  sg:9bbf6c92e7cf4768a8cfdccab7bfb693                 Sears\n",
       "1546062  sg:e4019da3119b4ebfac7b8f9907d68d7c        Bottega Veneta\n",
       "\n",
       "[282 rows x 2 columns]"
      ]
     },
     "execution_count": 24,
     "metadata": {},
     "output_type": "execute_result"
    }
   ],
   "source": [
    "brands = table_2020[['B_store', 'O_Brand_name']].drop_duplicates()\n",
    "brands"
   ]
  },
  {
   "cell_type": "code",
   "execution_count": 25,
   "id": "52a82f0b-f709-4d57-a491-e5ecdf3d42fd",
   "metadata": {
    "tags": []
   },
   "outputs": [
    {
     "name": "stdout",
     "output_type": "stream",
     "text": [
      "Pearson correlation by chain\n",
      "2018: PearsonRResult(statistic=0.9644761163600984, pvalue=3.323493532266733e-14)\n",
      "\n",
      "\n",
      "2019: PearsonRResult(statistic=0.9563422059646429, pvalue=3.090861025123563e-13)\n",
      "\n",
      "\n",
      "2020: PearsonRResult(statistic=0.7423324932114529, pvalue=3.277573575684941e-05)\n",
      "\n",
      "\n",
      "2021: PearsonRResult(statistic=0.5440493318867697, pvalue=0.005991544194259273)\n",
      "\n",
      "\n"
     ]
    }
   ],
   "source": [
    "print('Pearson correlation by chain')\n",
    "for y in years:\n",
    "    d_now = dfs['preds_'+str(y)]\n",
    "    d_now = d_now[d_now['A_cbg'].isin(used_cbgs)].merge(brands)\n",
    "    chain_visit_comparison = d_now.groupby(\n",
    "        ['O_Brand_name'])['assumed_visits','D_Number_of_Visits'].sum().reset_index()\n",
    "    print(str(y) + ':', scipy.stats.pearsonr(chain_visit_comparison['D_Number_of_Visits'], \n",
    "                                             chain_visit_comparison['assumed_visits']))\n",
    "    print('\\n')"
   ]
  },
  {
   "cell_type": "code",
   "execution_count": null,
   "id": "010be68d-6391-4121-80ca-81c7e5d707c3",
   "metadata": {},
   "outputs": [],
   "source": [
    "table_2019_aggregated = table_2019.merge(\n",
    "    table_2018[['A_cbg', 'B_store', 'R_Percentage_of_Visits_by_brand_2018']], on = ['A_cbg', 'B_store'])\n",
    "\n",
    "table_2020_aggregated = table_2020.merge(\n",
    "    table_2019[['A_cbg', 'B_store', 'R_Percentage_of_Visits_by_brand_2019']], on = ['A_cbg', 'B_store'])\n",
    "\n",
    "table_2021_aggregated = table_2021.merge(\n",
    "    table_2020[['A_cbg', 'B_store', 'R_Percentage_of_Visits_by_brand_2020']], on = ['A_cbg', 'B_store'])"
   ]
  },
  {
   "cell_type": "code",
   "execution_count": null,
   "id": "b626f255-3864-43cd-926f-cd78dfe91cee",
   "metadata": {},
   "outputs": [],
   "source": [
    "table_2019_aggregated.to_csv(\n",
    "    'data/table_2019_aggregated.csv', \n",
    "    index = False)\n",
    "\n",
    "table_2020_aggregated.to_csv(\n",
    "    'data/table_2020_aggregated.csv', \n",
    "    index = False)\n",
    "\n",
    "table_2021_aggregated.to_csv(\n",
    "    'data/table_2021_aggregated.csv', \n",
    "    index = False)"
   ]
  }
 ],
 "metadata": {
  "kernelspec": {
   "display_name": "Python 3 (ipykernel)",
   "language": "python",
   "name": "python3"
  },
  "language_info": {
   "codemirror_mode": {
    "name": "ipython",
    "version": 3
   },
   "file_extension": ".py",
   "mimetype": "text/x-python",
   "name": "python",
   "nbconvert_exporter": "python",
   "pygments_lexer": "ipython3",
   "version": "3.11.3"
  }
 },
 "nbformat": 4,
 "nbformat_minor": 5
}
