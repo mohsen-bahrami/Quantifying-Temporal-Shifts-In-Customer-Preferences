{
 "cells": [
  {
   "cell_type": "code",
   "execution_count": 1,
   "id": "bebe6921-8ad4-4d63-9a4c-58f58f978fa0",
   "metadata": {},
   "outputs": [],
   "source": [
    "import os\n",
    "import pandas as pd\n",
    "import shutil"
   ]
  },
  {
   "cell_type": "code",
   "execution_count": 2,
   "id": "576fb09a-7ce4-4aa3-848b-1b85a10e1f54",
   "metadata": {},
   "outputs": [],
   "source": [
    "year = 2019"
   ]
  },
  {
   "cell_type": "code",
   "execution_count": 3,
   "id": "fe12706c-6b8f-4104-b17f-6817283d5319",
   "metadata": {},
   "outputs": [],
   "source": [
    "norm_ranges = list(range(2, 31))\n",
    "PSO_ranges = list(range(5, 75, 5))"
   ]
  },
  {
   "cell_type": "code",
   "execution_count": 4,
   "id": "2edaaaa1-7704-4453-afa6-3017129bba17",
   "metadata": {
    "scrolled": true,
    "tags": []
   },
   "outputs": [
    {
     "data": {
      "text/plain": [
       "[2,\n",
       " 3,\n",
       " 4,\n",
       " 5,\n",
       " 6,\n",
       " 7,\n",
       " 8,\n",
       " 9,\n",
       " 10,\n",
       " 11,\n",
       " 12,\n",
       " 13,\n",
       " 14,\n",
       " 15,\n",
       " 16,\n",
       " 17,\n",
       " 18,\n",
       " 19,\n",
       " 20,\n",
       " 21,\n",
       " 22,\n",
       " 23,\n",
       " 24,\n",
       " 25,\n",
       " 26,\n",
       " 27,\n",
       " 28,\n",
       " 29,\n",
       " 30]"
      ]
     },
     "execution_count": 4,
     "metadata": {},
     "output_type": "execute_result"
    }
   ],
   "source": [
    "norm_ranges"
   ]
  },
  {
   "cell_type": "code",
   "execution_count": 5,
   "id": "4c6d628d-05be-443e-9843-96c12e1fda3a",
   "metadata": {},
   "outputs": [
    {
     "data": {
      "text/plain": [
       "29"
      ]
     },
     "execution_count": 5,
     "metadata": {},
     "output_type": "execute_result"
    }
   ],
   "source": [
    "len(norm_ranges)"
   ]
  },
  {
   "cell_type": "code",
   "execution_count": 6,
   "id": "626483ee-2a52-4a50-b20c-df58ec45e68b",
   "metadata": {},
   "outputs": [
    {
     "data": {
      "text/plain": [
       "[5, 10, 15, 20, 25, 30, 35, 40, 45, 50, 55, 60, 65, 70]"
      ]
     },
     "execution_count": 6,
     "metadata": {},
     "output_type": "execute_result"
    }
   ],
   "source": [
    "PSO_ranges"
   ]
  },
  {
   "cell_type": "code",
   "execution_count": 7,
   "id": "6a9ccc2c-1cf3-41b2-a231-4dd4a91dfe68",
   "metadata": {},
   "outputs": [
    {
     "data": {
      "text/plain": [
       "14"
      ]
     },
     "execution_count": 7,
     "metadata": {},
     "output_type": "execute_result"
    }
   ],
   "source": [
    "len(PSO_ranges)"
   ]
  },
  {
   "cell_type": "code",
   "execution_count": 8,
   "id": "11b3223a-00f1-4e0b-aadd-b6269feced06",
   "metadata": {},
   "outputs": [],
   "source": [
    "sub_folders = ['norm_'+str(n)+'_PSO_'+str(p) for n in norm_ranges for p in PSO_ranges]"
   ]
  },
  {
   "cell_type": "code",
   "execution_count": 9,
   "id": "b5bf349d-6109-413c-bb31-379ccec52e01",
   "metadata": {},
   "outputs": [
    {
     "data": {
      "text/plain": [
       "406"
      ]
     },
     "execution_count": 9,
     "metadata": {},
     "output_type": "execute_result"
    }
   ],
   "source": [
    "len(sub_folders)"
   ]
  },
  {
   "cell_type": "code",
   "execution_count": 10,
   "id": "fccf8918-ef71-444a-aadc-2e10acc2f85e",
   "metadata": {},
   "outputs": [],
   "source": [
    "new_directory = 'code/2_code_for_PSO_calibration/creating_PSO_code_by_year/'+str(year) + '/sub_code'"
   ]
  },
  {
   "cell_type": "code",
   "execution_count": 11,
   "id": "eac5666b-66b4-4980-bb3d-8e7a14669a7d",
   "metadata": {},
   "outputs": [
    {
     "name": "stdout",
     "output_type": "stream",
     "text": [
      "finished!\n"
     ]
    }
   ],
   "source": [
    "sbatch_commands = []\n",
    "py_codes = []\n",
    "sbatches = []\n",
    "for t in sub_folders:\n",
    "    path = os.path.join(new_directory, t)\n",
    "    if os.path.exists(path):\n",
    "        shutil.rmtree(path)\n",
    "    os.mkdir(path)\n",
    "    sub_path = os.path.join(new_directory, t, 'sub')\n",
    "    if os.path.exists(sub_path):\n",
    "        shutil.rmtree(sub_path)\n",
    "    os.mkdir(sub_path)\n",
    "    source_py = \"code/2_code_for_PSO_calibration/creating_PSO_code_by_year/4_PSO_2018_NYC_norm_2_PSO_30.py\"\n",
    "    dest_py = path + '/4_PSO_' + str(year) + '_NYC_' + t + '.py'\n",
    "    shutil.copy(source_py, dest_py)\n",
    "    \n",
    "    source_sbatch = \"code/2_code_for_PSO_calibration/creating_PSO_code_by_year/4_PSO_2018_NYC_norm_2_PSO_30.sbatch\"\n",
    "    dest_sbatch = path + '/4_PSO_' + str(year) + '_NYC_' + t + '.sbatch'\n",
    "    sbatch_commands.append('sbatch norm_PSO_combination_' + str(year) + '/'+ t + '/4_PSO_' + str(year) + '_NYC_' + t + '.sbatch\\n')\n",
    "    shutil.copy(source_sbatch, dest_sbatch)\n",
    "    py_codes.append(dest_py)\n",
    "    sbatches.append(dest_sbatch)\n",
    "print('finished!')"
   ]
  },
  {
   "cell_type": "code",
   "execution_count": 12,
   "id": "e8aa4ef6-8799-4c78-bd23-8676df1ff8fc",
   "metadata": {},
   "outputs": [],
   "source": [
    "with open('code/2_code_for_PSO_calibration/creating_PSO_code_by_year/'+str(year) + '/sbatches_commands_'+ str(\n",
    "    year) + '.txt', 'w+') as commands_file:\n",
    "    for c in sbatch_commands:\n",
    "        commands_file.write(c)"
   ]
  },
  {
   "cell_type": "code",
   "execution_count": 13,
   "id": "4eb414de-d29b-4dda-9dd6-76005938f1db",
   "metadata": {
    "scrolled": true,
    "tags": []
   },
   "outputs": [],
   "source": [
    "def revise_py_code(py_path):\n",
    "    norm_here = py_path.split('/')[-2].split('_')[1]\n",
    "    PSO_range_here = py_path.split('/')[-2].split('_')[-1]\n",
    "\n",
    "    with open(py_path, \"rt\") as py_file:\n",
    "        text_here = py_file.readlines()\n",
    "\n",
    "    year_index = text_here.index('year = 2018\\n')\n",
    "    norm_index = text_here.index('norm = 2\\n')\n",
    "    PSO_range_index = text_here.index('PSO_range = 30\\n')\n",
    "    write_head_index = text_here.index(\"with open('sub/PSO_6params_NYC_norm_' + str(norm) + 'PSO_' + str(PSO_range) + '_sub_' +str(rank) + '_' + str(year) + '.csv', 'w+') as myfile:\\n\")\n",
    "    write_row_index = text_here.index(\"    with open('sub/PSO_6params_NYC_norm_' + str(norm) + 'PSO_' + str(PSO_range) + '_sub_' +str(rank) + '_' + str(year) + '.csv', 'a') as myfile:\\n\")\n",
    "    \n",
    "    with open(py_path, 'w+') as updated_file:\n",
    "        for indx, n in enumerate(text_here):\n",
    "            if indx == year_index:\n",
    "                updated_file.write('year = ' + str(year) + '\\n')\n",
    "            elif indx == norm_index:\n",
    "                updated_file.write('norm = ' + str(norm_here) + '\\n')\n",
    "            elif indx == PSO_range_index:\n",
    "                updated_file.write('PSO_range = ' + str(PSO_range_here) + '\\n')\n",
    "            elif indx == write_head_index:\n",
    "                updated_file.write(\n",
    "                    \"with open('norm_PSO_combination_' + str(year) + '/norm_' + str(norm) +'_PSO_'+str(PSO_range) + '/sub/PSO_6params_NYC_norm_' + str(norm) + 'PSO_' + str(PSO_range) + '_sub_' +str(rank) + '_' + str(year) + '.csv', 'w+') as myfile:\\n\")\n",
    "            elif indx == write_row_index:\n",
    "                updated_file.write(\"    with open('norm_PSO_combination_' + str(year) + '/norm_' + str(norm) +'_PSO_'+str(PSO_range) + '/sub/PSO_6params_NYC_norm_' + str(norm) + 'PSO_' + str(PSO_range) + '_sub_' +str(rank) + '_' + str(year) + '.csv', 'a') as myfile:\\n\")\n",
    "            else:\n",
    "                updated_file.write(n)\n",
    "\n",
    "for p in py_codes:\n",
    "    revise_py_code(p)"
   ]
  },
  {
   "cell_type": "code",
   "execution_count": 14,
   "id": "1b643837-e3a6-44d7-a6e5-63d011333ca9",
   "metadata": {},
   "outputs": [],
   "source": [
    "def revise_sbatch_code(sbatch_path):\n",
    "    norm_here = sbatch_path.split('/')[-2].split('_')[1]\n",
    "    PSO_range_here = sbatch_path.split('/')[-2].split('_')[-1]\n",
    "    with open(sbatch_path, \"rt\") as sbatch_file:\n",
    "        text_here = sbatch_file.readlines()\n",
    "    \n",
    "    with open(sbatch_path, 'w+') as updated_file:\n",
    "        for t in text_here:\n",
    "            if '#SBATCH --job-name=' in t:\n",
    "                updated_file.write('#SBATCH --job-name=norm_'+str(norm_here)+'_PSO_'+str(PSO_range_here)+'_' + str(year) + '\\n')\n",
    "            elif '#SBATCH --output=' in t:\n",
    "                updated_file.write('#SBATCH --output=' + 'norm_PSO_combination_' + str(\n",
    "                    year) + '/norm_' + str(norm_here) +'_PSO_'+str(PSO_range_here) + '/4_PSO_' + str(year) + '_NYC_norm_'+str(\n",
    "                    norm_here)+'_PSO_'+str(PSO_range_here)+'.out\\n')\n",
    "            elif '#SBATCH --error=' in t:\n",
    "                updated_file.write('#SBATCH --error=' + 'norm_PSO_combination_' + str(\n",
    "                    year) + '/norm_' + str(norm_here) +'_PSO_'+str(PSO_range_here) + '/4_PSO_' + str(year) + '_NYC_norm_'+str(\n",
    "                    norm_here)+'_PSO_'+str(PSO_range_here)+'.err\\n')\n",
    "            elif 'mpirun -n 40 python3' in t:\n",
    "                abs_file_path = 'norm_PSO_combination_' + str(\n",
    "                    year) + '/norm_' + str(norm_here) +'_PSO_'+str(PSO_range_here) + '/4_PSO_' + str(\n",
    "                    year) + '_NYC_norm_'+str(norm_here)+'_PSO_'+str(PSO_range_here)+'.py'\n",
    "                updated_file.write('mpirun -n 40 python3 ' + abs_file_path)\n",
    "            elif 'mail' in t:\n",
    "                pass\n",
    "            else:\n",
    "                updated_file.write(t)\n",
    "\n",
    "for s in sbatches:\n",
    "    revise_sbatch_code(s)"
   ]
  }
 ],
 "metadata": {
  "kernelspec": {
   "display_name": "Python 3 (ipykernel)",
   "language": "python",
   "name": "python3"
  },
  "language_info": {
   "codemirror_mode": {
    "name": "ipython",
    "version": 3
   },
   "file_extension": ".py",
   "mimetype": "text/x-python",
   "name": "python",
   "nbconvert_exporter": "python",
   "pygments_lexer": "ipython3",
   "version": "3.8.13"
  }
 },
 "nbformat": 4,
 "nbformat_minor": 5
}
