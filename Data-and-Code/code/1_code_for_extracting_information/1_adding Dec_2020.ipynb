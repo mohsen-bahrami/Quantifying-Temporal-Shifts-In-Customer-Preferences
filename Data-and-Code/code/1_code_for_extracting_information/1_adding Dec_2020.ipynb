{
 "cells": [
  {
   "cell_type": "code",
   "execution_count": 8,
   "id": "7bcb6730-a83b-46ec-90ed-af508dc44c2a",
   "metadata": {},
   "outputs": [],
   "source": [
    "import pandas as pd\n",
    "import os\n",
    "import numpy as np\n",
    "from datetime import datetime\n",
    "import warnings\n",
    "warnings.filterwarnings(\"ignore\")\n",
    "import matplotlib.pyplot as plt\n",
    "pd.set_option('display.max_columns', None)"
   ]
  },
  {
   "cell_type": "code",
   "execution_count": 17,
   "id": "61cde3fc-c29e-4d84-956e-2e1fe47c85f5",
   "metadata": {},
   "outputs": [],
   "source": [
    "path = 'raw_data (2020Dec afterwards)' # We do not upload this data because the information is raw from SafeGraph\n",
    "folder_list = os.listdir(path)\n",
    "folder_list = [path+'/'+i for i in folder_list if 'DS' not in i]"
   ]
  },
  {
   "cell_type": "code",
   "execution_count": 18,
   "id": "b018f6c8-300f-4f9c-9fcd-f7353340d2aa",
   "metadata": {},
   "outputs": [],
   "source": [
    "file_path_2020 = []\n",
    "for f in folder_list:\n",
    "    files_temp = os.listdir(f)\n",
    "    files_temp = [f+'/'+i for i in files_temp if 'DS' not in i if '_patterns' not in i]\n",
    "    file_path_2020.extend(files_temp)"
   ]
  },
  {
   "cell_type": "code",
   "execution_count": 19,
   "id": "ba4897c5-10e7-4201-bd34-33e5fd611fa2",
   "metadata": {},
   "outputs": [
    {
     "data": {
      "text/plain": [
       "4"
      ]
     },
     "execution_count": 19,
     "metadata": {},
     "output_type": "execute_result"
    }
   ],
   "source": [
    "len(file_path_2020)"
   ]
  },
  {
   "cell_type": "code",
   "execution_count": 20,
   "id": "6fb569bb-835f-44a6-bae8-b1b5347b4bdf",
   "metadata": {},
   "outputs": [],
   "source": [
    "ids = list(pd.read_csv('all_info_before_aggregation.csv')['safegraph_place_id'].unique())"
   ]
  },
  {
   "cell_type": "code",
   "execution_count": 21,
   "id": "e9b68220-a266-4bb5-9329-eec30375c572",
   "metadata": {},
   "outputs": [],
   "source": [
    "a = pd.read_csv(file_path_2020[2], compression='gzip')"
   ]
  },
  {
   "cell_type": "code",
   "execution_count": 24,
   "id": "85ccc419-e52e-42d3-86c6-5c94a1839a2a",
   "metadata": {},
   "outputs": [],
   "source": [
    "def get_good_obs_weekly(data_path):\n",
    "    df = pd.read_csv(data_path, compression='gzip')\n",
    "    return df[df['safegraph_place_id'].isin(ids)]"
   ]
  },
  {
   "cell_type": "code",
   "execution_count": 25,
   "id": "ef8fe0ed-1522-4712-9226-c5f2e8f71709",
   "metadata": {},
   "outputs": [
    {
     "name": "stdout",
     "output_type": "stream",
     "text": [
      "0  finished\n",
      "1  finished\n",
      "2  finished\n",
      "3  finished\n"
     ]
    }
   ],
   "source": [
    "filtered_abs_path = 'raw_data (2020Dec afterwards)'# We do not upload this data because the information is raw from SafeGraph\n",
    "for i,cont in enumerate(file_path_2020):\n",
    "    temp_df = get_good_obs_weekly(cont)\n",
    "    print(i,' finished')\n",
    "    if len(temp_df) > 0:\n",
    "        temp_df.to_csv(filtered_abs_path+'/'+str(i+224)+ '.csv', index = False)"
   ]
  }
 ],
 "metadata": {
  "kernelspec": {
   "display_name": "Python 3 (ipykernel)",
   "language": "python",
   "name": "python3"
  },
  "language_info": {
   "codemirror_mode": {
    "name": "ipython",
    "version": 3
   },
   "file_extension": ".py",
   "mimetype": "text/x-python",
   "name": "python",
   "nbconvert_exporter": "python",
   "pygments_lexer": "ipython3",
   "version": "3.8.13"
  }
 },
 "nbformat": 4,
 "nbformat_minor": 5
}
